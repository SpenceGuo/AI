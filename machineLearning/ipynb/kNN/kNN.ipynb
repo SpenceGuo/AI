{
 "cells": [
  {
   "cell_type": "markdown",
   "metadata": {},
   "source": [
    "# k-近邻算法(kNN)概述\n",
    "## k-近邻算法(kNN)的一般流程  \n",
    " - (1) 收集数据：可以使用任何方法\n",
    " - (2) 准备数据：距离计算 所需要的数值，最好是结构化的数据格式\n",
    " - (3) 分析数据：可以使用任何方法\n",
    " - (4) 训练算法：此步骤在kNN中不需要\n",
    " - (5) 测试算法：计算错误率\n",
    " - (6) 使用算法：首先要输入样本数据和结构化的输出结果，然后运行kNN算法判定输入数据分别属于哪个分类，最后运用对计算出的分类执行后续的处理"
   ]
  },
  {
   "cell_type": "markdown",
   "metadata": {},
   "source": [
    "# 使用Python导入数据"
   ]
  },
  {
   "cell_type": "code",
   "execution_count": 1,
   "metadata": {},
   "outputs": [],
   "source": [
    "import numpy as np\n",
    "import operator"
   ]
  },
  {
   "cell_type": "code",
   "execution_count": 2,
   "metadata": {},
   "outputs": [],
   "source": [
    "def createDateset():\n",
    "    group = np.array([[1.0, 1.1], [1.0, 1.0], [0, 0], [0, 0.1]])\n",
    "    labels = ['A', 'A', 'B', 'B']\n",
    "    return group, labels"
   ]
  },
  {
   "cell_type": "code",
   "execution_count": 3,
   "metadata": {},
   "outputs": [
    {
     "data": {
      "text/plain": [
       "(array([[1. , 1.1],\n",
       "        [1. , 1. ],\n",
       "        [0. , 0. ],\n",
       "        [0. , 0.1]]),\n",
       " ['A', 'A', 'B', 'B'])"
      ]
     },
     "execution_count": 3,
     "metadata": {},
     "output_type": "execute_result"
    }
   ],
   "source": [
    "group, labels = createDateset()\n",
    "group,labels"
   ]
  },
  {
   "cell_type": "code",
   "execution_count": 8,
   "metadata": {},
   "outputs": [],
   "source": [
    "import matplotlib.pyplot as plt"
   ]
  },
  {
   "cell_type": "code",
   "execution_count": 12,
   "metadata": {},
   "outputs": [
    {
     "name": "stdout",
     "output_type": "stream",
     "text": [
      "[1. 1. 0. 0.]\n"
     ]
    }
   ],
   "source": [
    "print(group[...,0])"
   ]
  },
  {
   "cell_type": "code",
   "execution_count": 20,
   "metadata": {},
   "outputs": [
    {
     "data": {
      "image/png": "[encoded data removed]",
      "text/plain": [
       "<Figure size 432x288 with 1 Axes>"
      ]
     },
     "metadata": {
      "needs_background": "light"
     },
     "output_type": "display_data"
    }
   ],
   "source": [
    "_x = group[...,0]\n",
    "_y = group[...,1]\n",
    "plt.plot(_x, _y, 'o')\n",
    "# plt.annotate(labels, group[...,0], group[...,1])\n",
    "for i in range(4):\n",
    "    plt.text(_x[i], _y[i], labels[i])\n",
    "plt.show()"
   ]
  },
  {
   "cell_type": "markdown",
   "metadata": {},
   "source": [
    "## 实施kNN分类算法\n",
    "# kNN算法伪代码  \n",
    "对未知类别属性的数据集中的每个点依次执行以下操作\n",
    "- (1) 计算已知类别数据集中的点与当前点之间的距离\n",
    "- (2) 按照距离 以递增次序排序\n",
    "- (3) 选取与当前点**距离最小的k个点**\n",
    "- (4) 确定前k个点所在类别的出现频率\n",
    "- (5) 返回前k个点出现频率最高的类别作为当前点的预测分类"
   ]
  },
  {
   "cell_type": "code",
   "execution_count": 27,
   "metadata": {},
   "outputs": [],
   "source": [
    "def classify0(inX, dataSet, labels, k):\n",
    "    \"\"\"\n",
    "    参数说明\n",
    "    inX:用于分类的输入向量\n",
    "    dataSet:输入的训练样本集\n",
    "    labels:标签向量\n",
    "    k:用于选择的最近邻居的数目\n",
    "    \n",
    "    return:输入向量inX的预测类别\n",
    "    \"\"\"\n",
    "    # 计算距离    \n",
    "    dataSetSize = dataSet.shape[0]\n",
    "    diffMat = np.tile(inX, [dataSetSize, 1]) - dataSet\n",
    "    sqDiffMat = diffMat**2\n",
    "    sqDistance = sqDiffMat.sum(axis=1)\n",
    "    distance = sqDistance**0.5\n",
    "    sortedDistIndicies = distance.argsort()\n",
    "    \n",
    "    # 选择距离最小的k个点     \n",
    "    classCount = {}\n",
    "    for i in range(k):\n",
    "        voteIlabel = labels[sortedDistIndicies[i]]\n",
    "        classCount[voteIlabel] = classCount.get(voteIlabel, 0) + 1\n",
    "    # 排序\n",
    "    sortedClassCount = sorted(classCount.items(), key=operator.itemgetter(1), reverse=True)\n",
    "    return sortedClassCount[0][0]"
   ]
  },
  {
   "cell_type": "code",
   "execution_count": 28,
   "metadata": {},
   "outputs": [
    {
     "name": "stdout",
     "output_type": "stream",
     "text": [
      "B\n"
     ]
    }
   ],
   "source": [
    "print(classify0([0, 0], group, labels, 3))"
   ]
  },
  {
   "cell_type": "code",
   "execution_count": 29,
   "metadata": {},
   "outputs": [
    {
     "name": "stdout",
     "output_type": "stream",
     "text": [
      "A\n"
     ]
    }
   ],
   "source": [
    "print(classify0([1, 1], group, labels, 3))"
   ]
  },
  {
   "cell_type": "code",
   "execution_count": 30,
   "metadata": {},
   "outputs": [
    {
     "name": "stdout",
     "output_type": "stream",
     "text": [
      "B\n"
     ]
    }
   ],
   "source": [
    "print(classify0([0.5, 0.5], group, labels, 3))"
   ]
  },
  {
   "cell_type": "code",
   "execution_count": null,
   "metadata": {},
   "outputs": [],
   "source": []
  }
 ],
 "metadata": {
  "kernelspec": {
   "display_name": "Python 3",
   "language": "python",
   "name": "python3"
  },
  "language_info": {
   "codemirror_mode": {
    "name": "ipython",
    "version": 3
   },
   "file_extension": ".py",
   "mimetype": "text/x-python",
   "name": "python",
   "nbconvert_exporter": "python",
   "pygments_lexer": "ipython3",
   "version": "3.8.5"
  }
 },
 "nbformat": 4,
 "nbformat_minor": 4
}
